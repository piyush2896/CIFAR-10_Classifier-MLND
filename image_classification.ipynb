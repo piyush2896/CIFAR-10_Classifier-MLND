{
 "cells": [
  {
   "cell_type": "markdown",
   "metadata": {
    "collapsed": true,
    "deletable": true,
    "editable": true
   },
   "source": [
    "# Image Classification\n",
    "In this project, you'll classify images from the [CIFAR-10 dataset](https://www.cs.toronto.edu/~kriz/cifar.html).  The dataset consists of airplanes, dogs, cats, and other objects. You'll preprocess the images, then train a convolutional neural network on all the samples. The images need to be normalized and the labels need to be one-hot encoded.  You'll get to apply what you learned and build a convolutional, max pooling, dropout, and fully connected layers.  At the end, you'll get to see your neural network's predictions on the sample images.\n",
    "## Get the Data\n",
    "Run the following cell to download the [CIFAR-10 dataset for python](https://www.cs.toronto.edu/~kriz/cifar-10-python.tar.gz)."
   ]
  },
  {
   "cell_type": "code",
   "execution_count": 1,
   "metadata": {
    "collapsed": false,
    "deletable": true,
    "editable": true
   },
   "outputs": [
    {
     "name": "stderr",
     "output_type": "stream",
     "text": [
      "CIFAR-10 Dataset: 171MB [14:08, 201KB/s]                                       \n"
     ]
    },
    {
     "name": "stdout",
     "output_type": "stream",
     "text": [
      "All files found!\n"
     ]
    }
   ],
   "source": [
    "\"\"\"\n",
    "DON'T MODIFY ANYTHING IN THIS CELL THAT IS BELOW THIS LINE\n",
    "\"\"\"\n",
    "from urllib.request import urlretrieve\n",
    "from os.path import isfile, isdir\n",
    "from tqdm import tqdm\n",
    "import problem_unittests as tests\n",
    "import tarfile\n",
    "\n",
    "cifar10_dataset_folder_path = 'cifar-10-batches-py'\n",
    "\n",
    "class DLProgress(tqdm):\n",
    "    last_block = 0\n",
    "\n",
    "    def hook(self, block_num=1, block_size=1, total_size=None):\n",
    "        self.total = total_size\n",
    "        self.update((block_num - self.last_block) * block_size)\n",
    "        self.last_block = block_num\n",
    "\n",
    "if not isfile('cifar-10-python.tar.gz'):\n",
    "    with DLProgress(unit='B', unit_scale=True, miniters=1, desc='CIFAR-10 Dataset') as pbar:\n",
    "        urlretrieve(\n",
    "            'https://www.cs.toronto.edu/~kriz/cifar-10-python.tar.gz',\n",
    "            'cifar-10-python.tar.gz',\n",
    "            pbar.hook)\n",
    "\n",
    "if not isdir(cifar10_dataset_folder_path):\n",
    "    with tarfile.open('cifar-10-python.tar.gz') as tar:\n",
    "        tar.extractall()\n",
    "        tar.close()\n",
    "\n",
    "\n",
    "tests.test_folder_path(cifar10_dataset_folder_path)"
   ]
  },
  {
   "cell_type": "markdown",
   "metadata": {
    "deletable": true,
    "editable": true
   },
   "source": [
    "## Explore the Data\n",
    "The dataset is broken into batches to prevent your machine from running out of memory.  The CIFAR-10 dataset consists of 5 batches, named `data_batch_1`, `data_batch_2`, etc.. Each batch contains the labels and images that are one of the following:\n",
    "* airplane\n",
    "* automobile\n",
    "* bird\n",
    "* cat\n",
    "* deer\n",
    "* dog\n",
    "* frog\n",
    "* horse\n",
    "* ship\n",
    "* truck\n",
    "\n",
    "Understanding a dataset is part of making predictions on the data.  Play around with the code cell below by changing the `batch_id` and `sample_id`. The `batch_id` is the id for a batch (1-5). The `sample_id` is the id for a image and label pair in the batch.\n",
    "\n",
    "Ask yourself \"What are all possible labels?\", \"What is the range of values for the image data?\", \"Are the labels in order or random?\".  Answers to questions like these will help you preprocess the data and end up with better predictions."
   ]
  },
  {
   "cell_type": "code",
   "execution_count": 6,
   "metadata": {
    "collapsed": false,
    "deletable": true,
    "editable": true
   },
   "outputs": [
    {
     "name": "stdout",
     "output_type": "stream",
     "text": [
      "\n",
      "Stats of batch 2:\n",
      "Samples: 10000\n",
      "Label Counts: {0: 984, 1: 1007, 2: 1010, 3: 995, 4: 1010, 5: 988, 6: 1008, 7: 1026, 8: 987, 9: 985}\n",
      "First 20 Labels: [1, 6, 6, 8, 8, 3, 4, 6, 0, 6, 0, 3, 6, 6, 5, 4, 8, 3, 2, 6]\n",
      "\n",
      "Example of Image 8:\n",
      "Image - Min Value: 31 Max Value: 255\n",
      "Image - Shape: (32, 32, 3)\n",
      "Label - Label Id: 0 Name: airplane\n"
     ]
    },
    {
     "data": {
      "image/png": "[encoded data removed]",
      "text/plain": [
       "<matplotlib.figure.Figure at 0x1c313444b70>"
      ]
     },
     "metadata": {
      "image/png": {
       "height": 250,
       "width": 253
      }
     },
     "output_type": "display_data"
    }
   ],
   "source": [
    "%matplotlib inline\n",
    "%config InlineBackend.figure_format = 'retina'\n",
    "\n",
    "import helper\n",
    "import numpy as np\n",
    "\n",
    "# Explore the dataset\n",
    "batch_id = 2\n",
    "sample_id = 8\n",
    "helper.display_stats(cifar10_dataset_folder_path, batch_id, sample_id)"
   ]
  },
  {
   "cell_type": "markdown",
   "metadata": {
    "deletable": true,
    "editable": true
   },
   "source": [
    "## Implement Preprocess Functions\n",
    "### Normalize\n",
    "In the cell below, implement the `normalize` function to take in image data, `x`, and return it as a normalized Numpy array. The values should be in the range of 0 to 1, inclusive.  The return object should be the same shape as `x`."
   ]
  },
  {
   "cell_type": "code",
   "execution_count": 7,
   "metadata": {
    "collapsed": false,
    "deletable": true,
    "editable": true
   },
   "outputs": [
    {
     "name": "stdout",
     "output_type": "stream",
     "text": [
      "Tests Passed\n"
     ]
    }
   ],
   "source": [
    "def normalize(x):\n",
    "    \"\"\"\n",
    "    Normalize a list of sample image data in the range of 0 to 1\n",
    "    : x: List of image data.  The image shape is (32, 32, 3)\n",
    "    : return: Numpy array of normalize data\n",
    "    \"\"\"\n",
    "    x = np.asarray(x)\n",
    "    return x / 255\n",
    "\n",
    "\n",
    "\"\"\"\n",
    "DON'T MODIFY ANYTHING IN THIS CELL THAT IS BELOW THIS LINE\n",
    "\"\"\"\n",
    "tests.test_normalize(normalize)"
   ]
  },
  {
   "cell_type": "markdown",
   "metadata": {
    "deletable": true,
    "editable": true
   },
   "source": [
    "### One-hot encode\n",
    "Just like the previous code cell, you'll be implementing a function for preprocessing.  This time, you'll implement the `one_hot_encode` function. The input, `x`, are a list of labels.  Implement the function to return the list of labels as One-Hot encoded Numpy array.  The possible values for labels are 0 to 9. The one-hot encoding function should return the same encoding for each value between each call to `one_hot_encode`.  Make sure to save the map of encodings outside the function.\n",
    "\n",
    "**Hint:**\n",
    "\n",
    "Look into LabelBinarizer in the preprocessing module of sklearn."
   ]
  },
  {
   "cell_type": "code",
   "execution_count": 9,
   "metadata": {
    "collapsed": false,
    "deletable": true,
    "editable": true
   },
   "outputs": [
    {
     "name": "stdout",
     "output_type": "stream",
     "text": [
      "Tests Passed\n"
     ]
    }
   ],
   "source": [
    "def one_hot_encode(x):\n",
    "    \"\"\"\n",
    "    One hot encode a list of sample labels. Return a one-hot encoded vector for each label.\n",
    "    : x: List of sample Labels\n",
    "    : return: Numpy array of one-hot encoded labels\n",
    "    \"\"\"\n",
    "    encoding = np.zeros((len(x), 10))\n",
    "    encoding[np.arange(len(x)), x] = 1\n",
    "    return encoding\n",
    "\n",
    "\n",
    "\"\"\"\n",
    "DON'T MODIFY ANYTHING IN THIS CELL THAT IS BELOW THIS LINE\n",
    "\"\"\"\n",
    "tests.test_one_hot_encode(one_hot_encode)"
   ]
  },
  {
   "cell_type": "markdown",
   "metadata": {
    "deletable": true,
    "editable": true
   },
   "source": [
    "### Randomize Data\n",
    "As you saw from exploring the data above, the order of the samples are randomized.  It doesn't hurt to randomize it again, but you don't need to for this dataset."
   ]
  },
  {
   "cell_type": "markdown",
   "metadata": {
    "deletable": true,
    "editable": true
   },
   "source": [
    "## Preprocess all the data and save it\n",
    "Running the code cell below will preprocess all the CIFAR-10 data and save it to file. The code below also uses 10% of the training data for validation."
   ]
  },
  {
   "cell_type": "code",
   "execution_count": 10,
   "metadata": {
    "collapsed": false,
    "deletable": true,
    "editable": true
   },
   "outputs": [],
   "source": [
    "\"\"\"\n",
    "DON'T MODIFY ANYTHING IN THIS CELL\n",
    "\"\"\"\n",
    "# Preprocess Training, Validation, and Testing Data\n",
    "helper.preprocess_and_save_data(cifar10_dataset_folder_path, normalize, one_hot_encode)"
   ]
  },
  {
   "cell_type": "markdown",
   "metadata": {
    "deletable": true,
    "editable": true
   },
   "source": [
    "# Check Point\n",
    "This is your first checkpoint.  If you ever decide to come back to this notebook or have to restart the notebook, you can start from here.  The preprocessed data has been saved to disk."
   ]
  },
  {
   "cell_type": "code",
   "execution_count": 1,
   "metadata": {
    "collapsed": true,
    "deletable": true,
    "editable": true
   },
   "outputs": [],
   "source": [
    "\"\"\"\n",
    "DON'T MODIFY ANYTHING IN THIS CELL\n",
    "\"\"\"\n",
    "import pickle\n",
    "import problem_unittests as tests\n",
    "import helper\n",
    "\n",
    "# Load the Preprocessed Validation data\n",
    "valid_features, valid_labels = pickle.load(open('preprocess_validation.p', mode='rb'))"
   ]
  },
  {
   "cell_type": "markdown",
   "metadata": {
    "deletable": true,
    "editable": true
   },
   "source": [
    "## Build the network\n",
    "For the neural network, you'll build each layer into a function.  Most of the code you've seen has been outside of functions. To test your code more thoroughly, we require that you put each layer in a function.  This allows us to give you better feedback and test for simple mistakes using our unittests before you submit your project.\n",
    "\n",
    ">**Note:** If you're finding it hard to dedicate enough time for this course each week, we've provided a small shortcut to this part of the project. In the next couple of problems, you'll have the option to use classes from the [TensorFlow Layers](https://www.tensorflow.org/api_docs/python/tf/layers) or [TensorFlow Layers (contrib)](https://www.tensorflow.org/api_guides/python/contrib.layers) packages to build each layer, except the layers you build in the \"Convolutional and Max Pooling Layer\" section.  TF Layers is similar to Keras's and TFLearn's abstraction to layers, so it's easy to pickup.\n",
    "\n",
    ">However, if you would like to get the most out of this course, try to solve all the problems _without_ using anything from the TF Layers packages. You **can** still use classes from other packages that happen to have the same name as ones you find in TF Layers! For example, instead of using the TF Layers version of the `conv2d` class, [tf.layers.conv2d](https://www.tensorflow.org/api_docs/python/tf/layers/conv2d), you would want to use the TF Neural Network version of `conv2d`, [tf.nn.conv2d](https://www.tensorflow.org/api_docs/python/tf/nn/conv2d). \n",
    "\n",
    "Let's begin!\n",
    "\n",
    "### Input\n",
    "The neural network needs to read the image data, one-hot encoded labels, and dropout keep probability. Implement the following functions\n",
    "* Implement `neural_net_image_input`\n",
    " * Return a [TF Placeholder](https://www.tensorflow.org/api_docs/python/tf/placeholder)\n",
    " * Set the shape using `image_shape` with batch size set to `None`.\n",
    " * Name the TensorFlow placeholder \"x\" using the TensorFlow `name` parameter in the [TF Placeholder](https://www.tensorflow.org/api_docs/python/tf/placeholder).\n",
    "* Implement `neural_net_label_input`\n",
    " * Return a [TF Placeholder](https://www.tensorflow.org/api_docs/python/tf/placeholder)\n",
    " * Set the shape using `n_classes` with batch size set to `None`.\n",
    " * Name the TensorFlow placeholder \"y\" using the TensorFlow `name` parameter in the [TF Placeholder](https://www.tensorflow.org/api_docs/python/tf/placeholder).\n",
    "* Implement `neural_net_keep_prob_input`\n",
    " * Return a [TF Placeholder](https://www.tensorflow.org/api_docs/python/tf/placeholder) for dropout keep probability.\n",
    " * Name the TensorFlow placeholder \"keep_prob\" using the TensorFlow `name` parameter in the [TF Placeholder](https://www.tensorflow.org/api_docs/python/tf/placeholder).\n",
    "\n",
    "These names will be used at the end of the project to load your saved model.\n",
    "\n",
    "Note: `None` for shapes in TensorFlow allow for a dynamic size."
   ]
  },
  {
   "cell_type": "code",
   "execution_count": 2,
   "metadata": {
    "collapsed": false,
    "deletable": true,
    "editable": true
   },
   "outputs": [
    {
     "name": "stdout",
     "output_type": "stream",
     "text": [
      "Image Input Tests Passed.\n",
      "Label Input Tests Passed.\n",
      "Keep Prob Tests Passed.\n"
     ]
    }
   ],
   "source": [
    "import tensorflow as tf\n",
    "\n",
    "def neural_net_image_input(image_shape):\n",
    "    \"\"\"\n",
    "    Return a Tensor for a batch of image input\n",
    "    : image_shape: Shape of the images\n",
    "    : return: Tensor for image input.\n",
    "    \"\"\"\n",
    "    input_shape = [None] + list(image_shape)\n",
    "    return tf.placeholder(dtype=tf.float32, shape=input_shape, name='x')\n",
    "\n",
    "\n",
    "def neural_net_label_input(n_classes):\n",
    "    \"\"\"\n",
    "    Return a Tensor for a batch of label input\n",
    "    : n_classes: Number of classes\n",
    "    : return: Tensor for label input.\n",
    "    \"\"\"\n",
    "    return tf.placeholder(dtype=tf.float32, shape=[None, n_classes], name='y')\n",
    "\n",
    "\n",
    "def neural_net_keep_prob_input():\n",
    "    \"\"\"\n",
    "    Return a Tensor for keep probability\n",
    "    : return: Tensor for keep probability.\n",
    "    \"\"\"\n",
    "    return tf.placeholder(dtype=tf.float32, name='keep_prob')\n",
    "\n",
    "\n",
    "\"\"\"\n",
    "DON'T MODIFY ANYTHING IN THIS CELL THAT IS BELOW THIS LINE\n",
    "\"\"\"\n",
    "tf.reset_default_graph()\n",
    "tests.test_nn_image_inputs(neural_net_image_input)\n",
    "tests.test_nn_label_inputs(neural_net_label_input)\n",
    "tests.test_nn_keep_prob_inputs(neural_net_keep_prob_input)"
   ]
  },
  {
   "cell_type": "markdown",
   "metadata": {
    "deletable": true,
    "editable": true
   },
   "source": [
    "### Convolution and Max Pooling Layer\n",
    "Convolution layers have a lot of success with images. For this code cell, you should implement the function `conv2d_maxpool` to apply convolution then max pooling:\n",
    "* Create the weight and bias using `conv_ksize`, `conv_num_outputs` and the shape of `x_tensor`.\n",
    "* Apply a convolution to `x_tensor` using weight and `conv_strides`.\n",
    " * We recommend you use same padding, but you're welcome to use any padding.\n",
    "* Add bias\n",
    "* Add a nonlinear activation to the convolution.\n",
    "* Apply Max Pooling using `pool_ksize` and `pool_strides`.\n",
    " * We recommend you use same padding, but you're welcome to use any padding.\n",
    "\n",
    "**Note:** You **can't** use [TensorFlow Layers](https://www.tensorflow.org/api_docs/python/tf/layers) or [TensorFlow Layers (contrib)](https://www.tensorflow.org/api_guides/python/contrib.layers) for **this** layer, but you can still use TensorFlow's [Neural Network](https://www.tensorflow.org/api_docs/python/tf/nn) package. You may still use the shortcut option for all the **other** layers.\n",
    "\n",
    "** Hint: **\n",
    "\n",
    "When unpacking values as an argument in Python, look into the [unpacking](https://docs.python.org/3/tutorial/controlflow.html#unpacking-argument-lists) operator. "
   ]
  },
  {
   "cell_type": "code",
   "execution_count": 3,
   "metadata": {
    "collapsed": true,
    "deletable": true,
    "editable": true
   },
   "outputs": [],
   "source": [
    "from math import sqrt"
   ]
  },
  {
   "cell_type": "code",
   "execution_count": 4,
   "metadata": {
    "collapsed": false,
    "deletable": true,
    "editable": true
   },
   "outputs": [
    {
     "name": "stdout",
     "output_type": "stream",
     "text": [
      "Tests Passed\n"
     ]
    }
   ],
   "source": [
    "def conv2d_maxpool(x_tensor, conv_num_outputs, conv_ksize, conv_strides, pool_ksize, pool_strides):\n",
    "    \"\"\"\n",
    "    Apply convolution then max pooling to x_tensor\n",
    "    :param x_tensor: TensorFlow Tensor\n",
    "    :param conv_num_outputs: Number of outputs for the convolutional layer\n",
    "    :param conv_ksize: kernal size 2-D Tuple for the convolutional layer\n",
    "    :param conv_strides: Stride 2-D Tuple for convolution\n",
    "    :param pool_ksize: kernal size 2-D Tuple for pool\n",
    "    :param pool_strides: Stride 2-D Tuple for pool\n",
    "    : return: A tensor that represents convolution and max pooling of x_tensor\n",
    "    \"\"\"\n",
    "    m, n_H, n_W, n_C_prev = x_tensor.get_shape().as_list()\n",
    "    std = sqrt(2 / (conv_ksize[0] * conv_ksize[1] * conv_num_outputs)) # for xavier intialization\n",
    "    \n",
    "    W_shape = list(conv_ksize) + [n_C_prev, conv_num_outputs]\n",
    "    b_shape = (1, 1, 1, conv_num_outputs)\n",
    "    \n",
    "    W = tf.Variable(tf.truncated_normal(shape=W_shape, stddev=std))\n",
    "    b = tf.Variable(tf.zeros(b_shape))\n",
    "\n",
    "    conv_strides = [1] + list(conv_strides) + [1]\n",
    "\n",
    "    Z = tf.add(tf.nn.conv2d(x_tensor, W, padding='SAME', strides=conv_strides), b)\n",
    "    A = tf.nn.relu(Z)\n",
    "\n",
    "    pool_ksize = [1] + list(pool_ksize) + [1]\n",
    "    pool_strides = [1] + list(pool_strides) + [1]\n",
    "    \n",
    "    A_pool = tf.nn.max_pool(A, ksize=pool_ksize, strides=pool_strides, padding='VALID')\n",
    "    return A_pool\n",
    "\n",
    "\n",
    "\"\"\"\n",
    "DON'T MODIFY ANYTHING IN THIS CELL THAT IS BELOW THIS LINE\n",
    "\"\"\"\n",
    "tests.test_con_pool(conv2d_maxpool)"
   ]
  },
  {
   "cell_type": "markdown",
   "metadata": {
    "deletable": true,
    "editable": true
   },
   "source": [
    "### Flatten Layer\n",
    "Implement the `flatten` function to change the dimension of `x_tensor` from a 4-D tensor to a 2-D tensor.  The output should be the shape (*Batch Size*, *Flattened Image Size*). Shortcut option: you can use classes from the [TensorFlow Layers](https://www.tensorflow.org/api_docs/python/tf/layers) or [TensorFlow Layers (contrib)](https://www.tensorflow.org/api_guides/python/contrib.layers) packages for this layer. For more of a challenge, only use other TensorFlow packages."
   ]
  },
  {
   "cell_type": "code",
   "execution_count": 5,
   "metadata": {
    "collapsed": false,
    "deletable": true,
    "editable": true
   },
   "outputs": [
    {
     "name": "stdout",
     "output_type": "stream",
     "text": [
      "Tests Passed\n"
     ]
    }
   ],
   "source": [
    "def flatten(x_tensor):\n",
    "    \"\"\"\n",
    "    Flatten x_tensor to (Batch Size, Flattened Image Size)\n",
    "    : x_tensor: A tensor of size (Batch Size, ...), where ... are the image dimensions.\n",
    "    : return: A tensor of size (Batch Size, Flattened Image Size).\n",
    "    \"\"\"\n",
    "    batch_size, n_H, n_W, n_C = x_tensor.get_shape().as_list()\n",
    "    return tf.reshape(x_tensor, shape=[-1, n_H*n_W*n_C])\n",
    "\n",
    "\n",
    "\"\"\"\n",
    "DON'T MODIFY ANYTHING IN THIS CELL THAT IS BELOW THIS LINE\n",
    "\"\"\"\n",
    "tests.test_flatten(flatten)"
   ]
  },
  {
   "cell_type": "markdown",
   "metadata": {
    "deletable": true,
    "editable": true
   },
   "source": [
    "### Fully-Connected Layer\n",
    "Implement the `fully_conn` function to apply a fully connected layer to `x_tensor` with the shape (*Batch Size*, *num_outputs*). Shortcut option: you can use classes from the [TensorFlow Layers](https://www.tensorflow.org/api_docs/python/tf/layers) or [TensorFlow Layers (contrib)](https://www.tensorflow.org/api_guides/python/contrib.layers) packages for this layer. For more of a challenge, only use other TensorFlow packages."
   ]
  },
  {
   "cell_type": "code",
   "execution_count": 6,
   "metadata": {
    "collapsed": true,
    "deletable": true,
    "editable": true
   },
   "outputs": [],
   "source": [
    "def dense_without_nonlin(x_tensor, num_outputs):\n",
    "    \"\"\"\n",
    "    Helper Function for next two layer functions\n",
    "    : x_tensor: A 2-D tensor where the first dimension is batch size.\n",
    "    : num_outputs: The number of output that the new tensor should be.\n",
    "    : return: A 2-D tensor where the second dimension is num_outputs without applying non-linearity.\n",
    "    \"\"\"\n",
    "    batch_size, in_prev = x_tensor.get_shape().as_list()\n",
    "    std = sqrt(2 / (in_prev * num_outputs)) # for xavier intialization\n",
    "\n",
    "    W = tf.Variable(tf.truncated_normal(shape=[in_prev, num_outputs], stddev=std))\n",
    "    b = tf.Variable(tf.zeros((1, num_outputs)))\n",
    "\n",
    "    Z = tf.add(tf.matmul(x_tensor, W), b)\n",
    "    return Z"
   ]
  },
  {
   "cell_type": "code",
   "execution_count": 7,
   "metadata": {
    "collapsed": false,
    "deletable": true,
    "editable": true
   },
   "outputs": [
    {
     "name": "stdout",
     "output_type": "stream",
     "text": [
      "Tests Passed\n"
     ]
    }
   ],
   "source": [
    "def fully_conn(x_tensor, num_outputs):\n",
    "    \"\"\"\n",
    "    Apply a fully connected layer to x_tensor using weight and bias\n",
    "    : x_tensor: A 2-D tensor where the first dimension is batch size.\n",
    "    : num_outputs: The number of output that the new tensor should be.\n",
    "    : return: A 2-D tensor where the second dimension is num_outputs.\n",
    "    \"\"\"\n",
    "    return tf.nn.relu(dense_without_nonlin(x_tensor, num_outputs))\n",
    "\n",
    "\n",
    "\"\"\"\n",
    "DON'T MODIFY ANYTHING IN THIS CELL THAT IS BELOW THIS LINE\n",
    "\"\"\"\n",
    "tests.test_fully_conn(fully_conn)"
   ]
  },
  {
   "cell_type": "markdown",
   "metadata": {
    "deletable": true,
    "editable": true
   },
   "source": [
    "### Output Layer\n",
    "Implement the `output` function to apply a fully connected layer to `x_tensor` with the shape (*Batch Size*, *num_outputs*). Shortcut option: you can use classes from the [TensorFlow Layers](https://www.tensorflow.org/api_docs/python/tf/layers) or [TensorFlow Layers (contrib)](https://www.tensorflow.org/api_guides/python/contrib.layers) packages for this layer. For more of a challenge, only use other TensorFlow packages.\n",
    "\n",
    "**Note:** Activation, softmax, or cross entropy should **not** be applied to this."
   ]
  },
  {
   "cell_type": "code",
   "execution_count": 8,
   "metadata": {
    "collapsed": false,
    "deletable": true,
    "editable": true
   },
   "outputs": [
    {
     "name": "stdout",
     "output_type": "stream",
     "text": [
      "Tests Passed\n"
     ]
    }
   ],
   "source": [
    "def output(x_tensor, num_outputs):\n",
    "    \"\"\"\n",
    "    Apply a output layer to x_tensor using weight and bias\n",
    "    : x_tensor: A 2-D tensor where the first dimension is batch size.\n",
    "    : num_outputs: The number of output that the new tensor should be.\n",
    "    : return: A 2-D tensor where the second dimension is num_outputs.\n",
    "    \"\"\"\n",
    "    return dense_without_nonlin(x_tensor, num_outputs)\n",
    "\n",
    "\n",
    "\"\"\"\n",
    "DON'T MODIFY ANYTHING IN THIS CELL THAT IS BELOW THIS LINE\n",
    "\"\"\"\n",
    "tests.test_output(output)"
   ]
  },
  {
   "cell_type": "markdown",
   "metadata": {
    "deletable": true,
    "editable": true
   },
   "source": [
    "### Create Convolutional Model\n",
    "Implement the function `conv_net` to create a convolutional neural network model. The function takes in a batch of images, `x`, and outputs logits.  Use the layers you created above to create this model:\n",
    "\n",
    "* Apply 1, 2, or 3 Convolution and Max Pool layers\n",
    "* Apply a Flatten Layer\n",
    "* Apply 1, 2, or 3 Fully Connected Layers\n",
    "* Apply an Output Layer\n",
    "* Return the output\n",
    "* Apply [TensorFlow's Dropout](https://www.tensorflow.org/api_docs/python/tf/nn/dropout) to one or more layers in the model using `keep_prob`. "
   ]
  },
  {
   "cell_type": "code",
   "execution_count": 9,
   "metadata": {
    "collapsed": false,
    "deletable": true,
    "editable": true
   },
   "outputs": [
    {
     "name": "stdout",
     "output_type": "stream",
     "text": [
      "Neural Network Built!\n"
     ]
    }
   ],
   "source": [
    "def conv_net(x, keep_prob):\n",
    "    \"\"\"\n",
    "    Create a convolutional neural network model\n",
    "    : x: Placeholder tensor that holds image data.\n",
    "    : keep_prob: Placeholder tensor that hold dropout keep probability.\n",
    "    : return: Tensor that represents logits\n",
    "    \"\"\"\n",
    "    # TODO: Apply 1, 2, or 3 Convolution and Max Pool layers\n",
    "    #    Play around with different number of outputs, kernel size and stride\n",
    "    # Function Definition from Above:\n",
    "    #    conv2d_maxpool(x_tensor, conv_num_outputs, conv_ksize, conv_strides, pool_ksize, pool_strides)\n",
    "    x = conv2d_maxpool(x, 64, (3, 3), (1, 1), (2, 2), (2, 2))\n",
    "    x = conv2d_maxpool(x, 128, (3, 3), (2, 2), (2, 2), (2, 2))\n",
    "    x = conv2d_maxpool(x, 256, (3, 3), (2, 2), (2, 2), (2, 2))\n",
    "\n",
    "    # TODO: Apply a Flatten Layer\n",
    "    # Function Definition from Above:\n",
    "    #   flatten(x_tensor)\n",
    "    \n",
    "    x = flatten(x)\n",
    "    \n",
    "\n",
    "    # TODO: Apply 1, 2, or 3 Fully Connected Layers\n",
    "    #    Play around with different number of outputs\n",
    "    # Function Definition from Above:\n",
    "    #   fully_conn(x_tensor, num_outputs)\n",
    "    \n",
    "    x = tf.nn.dropout(x, keep_prob)\n",
    "    x = fully_conn(x, 2048)\n",
    "    x = tf.nn.dropout(x, keep_prob)\n",
    "    x = fully_conn(x, 1024)\n",
    "    x = fully_conn(x, 512)\n",
    "    \n",
    "    \n",
    "    # TODO: Apply an Output Layer\n",
    "    #    Set this to the number of classes\n",
    "    # Function Definition from Above:\n",
    "    #   output(x_tensor, num_outputs)\n",
    "    x = output(x, 10)\n",
    "    \n",
    "    # TODO: return output\n",
    "    return x\n",
    "\n",
    "\n",
    "\"\"\"\n",
    "DON'T MODIFY ANYTHING IN THIS CELL THAT IS BELOW THIS LINE\n",
    "\"\"\"\n",
    "\n",
    "##############################\n",
    "## Build the Neural Network ##\n",
    "##############################\n",
    "\n",
    "# Remove previous weights, bias, inputs, etc..\n",
    "tf.reset_default_graph()\n",
    "\n",
    "# Inputs\n",
    "x = neural_net_image_input((32, 32, 3))\n",
    "y = neural_net_label_input(10)\n",
    "keep_prob = neural_net_keep_prob_input()\n",
    "\n",
    "# Model\n",
    "logits = conv_net(x, keep_prob)\n",
    "\n",
    "# Name logits Tensor, so that is can be loaded from disk after training\n",
    "logits = tf.identity(logits, name='logits')\n",
    "\n",
    "# Loss and Optimizer\n",
    "cost = tf.reduce_mean(tf.nn.softmax_cross_entropy_with_logits(logits=logits, labels=y))\n",
    "optimizer = tf.train.AdamOptimizer().minimize(cost)\n",
    "\n",
    "# Accuracy\n",
    "correct_pred = tf.equal(tf.argmax(logits, 1), tf.argmax(y, 1))\n",
    "accuracy = tf.reduce_mean(tf.cast(correct_pred, tf.float32), name='accuracy')\n",
    "\n",
    "tests.test_conv_net(conv_net)"
   ]
  },
  {
   "cell_type": "markdown",
   "metadata": {
    "deletable": true,
    "editable": true
   },
   "source": [
    "## Train the Neural Network\n",
    "### Single Optimization\n",
    "Implement the function `train_neural_network` to do a single optimization.  The optimization should use `optimizer` to optimize in `session` with a `feed_dict` of the following:\n",
    "* `x` for image input\n",
    "* `y` for labels\n",
    "* `keep_prob` for keep probability for dropout\n",
    "\n",
    "This function will be called for each batch, so `tf.global_variables_initializer()` has already been called.\n",
    "\n",
    "Note: Nothing needs to be returned. This function is only optimizing the neural network."
   ]
  },
  {
   "cell_type": "code",
   "execution_count": 10,
   "metadata": {
    "collapsed": false,
    "deletable": true,
    "editable": true
   },
   "outputs": [
    {
     "name": "stdout",
     "output_type": "stream",
     "text": [
      "Tests Passed\n"
     ]
    }
   ],
   "source": [
    "def train_neural_network(session, optimizer, keep_probability, feature_batch, label_batch):\n",
    "    \"\"\"\n",
    "    Optimize the session on a batch of images and labels\n",
    "    : session: Current TensorFlow session\n",
    "    : optimizer: TensorFlow optimizer function\n",
    "    : keep_probability: keep probability\n",
    "    : feature_batch: Batch of Numpy image data\n",
    "    : label_batch: Batch of Numpy label data\n",
    "    \"\"\"\n",
    "    session.run(optimizer, feed_dict={x: feature_batch, y: label_batch, keep_prob: keep_probability})\n",
    "\n",
    "\n",
    "\"\"\"\n",
    "DON'T MODIFY ANYTHING IN THIS CELL THAT IS BELOW THIS LINE\n",
    "\"\"\"\n",
    "tests.test_train_nn(train_neural_network)"
   ]
  },
  {
   "cell_type": "markdown",
   "metadata": {
    "deletable": true,
    "editable": true
   },
   "source": [
    "### Show Stats\n",
    "Implement the function `print_stats` to print loss and validation accuracy.  Use the global variables `valid_features` and `valid_labels` to calculate validation accuracy.  Use a keep probability of `1.0` to calculate the loss and validation accuracy."
   ]
  },
  {
   "cell_type": "code",
   "execution_count": 11,
   "metadata": {
    "collapsed": true
   },
   "outputs": [],
   "source": [
    "import numpy as np"
   ]
  },
  {
   "cell_type": "code",
   "execution_count": 12,
   "metadata": {
    "collapsed": false,
    "deletable": true,
    "editable": true
   },
   "outputs": [],
   "source": [
    "def print_stats(session, feature_batch, label_batch, cost, accuracy):\n",
    "    \"\"\"\n",
    "    Print information about loss and validation accuracy\n",
    "    : session: Current TensorFlow session\n",
    "    : feature_batch: Batch of Numpy image data\n",
    "    : label_batch: Batch of Numpy label data\n",
    "    : cost: TensorFlow cost function\n",
    "    : accuracy: TensorFlow accuracy function\n",
    "    \"\"\"\n",
    "    t_c = []\n",
    "    t_acc = []\n",
    "    m = valid_features.shape[0]\n",
    "    batch_size = 128\n",
    "\n",
    "    for i in range(0, m // batch_size):\n",
    "        start = i * batch_size\n",
    "        end = (i + 1) * batch_size\n",
    "        c, acc = session.run([cost, accuracy], feed_dict={x: valid_features[start:end],\n",
    "                                                          y: valid_labels[start:end],\n",
    "                                                          keep_prob: 1.0})\n",
    "        t_c .append(c)\n",
    "        t_acc.append(acc)\n",
    "\n",
    "    if m > end:\n",
    "        c, acc = session.run([cost, accuracy], feed_dict={x: valid_features[end:],\n",
    "                                                          y: valid_labels[end:],\n",
    "                                                          keep_prob: 1.0})\n",
    "        t_c .append(c)\n",
    "        t_acc.append(acc)\n",
    "\n",
    "    print('Cost: {}\\t Accuracy: {}'.format(round(np.mean(t_c), 5), round(np.mean(t_acc), 5)))"
   ]
  },
  {
   "cell_type": "markdown",
   "metadata": {
    "deletable": true,
    "editable": true
   },
   "source": [
    "### Hyperparameters\n",
    "Tune the following parameters:\n",
    "* Set `epochs` to the number of iterations until the network stops learning or start overfitting\n",
    "* Set `batch_size` to the highest number that your machine has memory for.  Most people set them to common sizes of memory:\n",
    " * 64\n",
    " * 128\n",
    " * 256\n",
    " * ...\n",
    "* Set `keep_probability` to the probability of keeping a node using dropout"
   ]
  },
  {
   "cell_type": "code",
   "execution_count": 13,
   "metadata": {
    "collapsed": true,
    "deletable": true,
    "editable": true
   },
   "outputs": [],
   "source": [
    "# TODO: Tune Parameters\n",
    "epochs = 30\n",
    "batch_size = 256\n",
    "keep_probability = 0.5"
   ]
  },
  {
   "cell_type": "markdown",
   "metadata": {
    "deletable": true,
    "editable": true
   },
   "source": [
    "### Train on a Single CIFAR-10 Batch\n",
    "Instead of training the neural network on all the CIFAR-10 batches of data, let's use a single batch. This should save time while you iterate on the model to get a better accuracy.  Once the final validation accuracy is 50% or greater, run the model on all the data in the next section."
   ]
  },
  {
   "cell_type": "code",
   "execution_count": 14,
   "metadata": {
    "collapsed": false,
    "deletable": true,
    "editable": true
   },
   "outputs": [
    {
     "name": "stdout",
     "output_type": "stream",
     "text": [
      "Checking the Training on a Single Batch...\n",
      "Epoch  1, CIFAR-10 Batch 1:  Cost: 2.2100300788879395\t Accuracy: 0.1634799987077713\n",
      "Epoch  2, CIFAR-10 Batch 1:  Cost: 1.9625400304794312\t Accuracy: 0.20645000040531158\n",
      "Epoch  3, CIFAR-10 Batch 1:  Cost: 1.9127700328826904\t Accuracy: 0.22930000722408295\n",
      "Epoch  4, CIFAR-10 Batch 1:  Cost: 1.8233799934387207\t Accuracy: 0.2628900110721588\n",
      "Epoch  5, CIFAR-10 Batch 1:  Cost: 1.723870038986206\t Accuracy: 0.3001999855041504\n",
      "Epoch  6, CIFAR-10 Batch 1:  Cost: 1.7115999460220337\t Accuracy: 0.3080100119113922\n",
      "Epoch  7, CIFAR-10 Batch 1:  Cost: 1.7230499982833862\t Accuracy: 0.32030999660491943\n",
      "Epoch  8, CIFAR-10 Batch 1:  Cost: 1.5984300374984741\t Accuracy: 0.3771499991416931\n",
      "Epoch  9, CIFAR-10 Batch 1:  Cost: 1.7547800540924072\t Accuracy: 0.34727001190185547\n",
      "Epoch 10, CIFAR-10 Batch 1:  Cost: 1.7310500144958496\t Accuracy: 0.3591800034046173\n",
      "Epoch 11, CIFAR-10 Batch 1:  Cost: 1.6973899602890015\t Accuracy: 0.3831999897956848\n",
      "Epoch 12, CIFAR-10 Batch 1:  Cost: 1.6514500379562378\t Accuracy: 0.4066399931907654\n",
      "Epoch 13, CIFAR-10 Batch 1:  Cost: 1.5585999488830566\t Accuracy: 0.4345700144767761\n",
      "Epoch 14, CIFAR-10 Batch 1:  Cost: 1.4956899881362915\t Accuracy: 0.46797001361846924\n",
      "Epoch 15, CIFAR-10 Batch 1:  Cost: 1.8247400522232056\t Accuracy: 0.3841800093650818\n",
      "Epoch 16, CIFAR-10 Batch 1:  Cost: 1.4529500007629395\t Accuracy: 0.4923799932003021\n",
      "Epoch 17, CIFAR-10 Batch 1:  Cost: 1.6168700456619263\t Accuracy: 0.46386998891830444\n",
      "Epoch 18, CIFAR-10 Batch 1:  Cost: 1.592229962348938\t Accuracy: 0.47832000255584717\n",
      "Epoch 19, CIFAR-10 Batch 1:  Cost: 1.6392300128936768\t Accuracy: 0.4876999855041504\n",
      "Epoch 20, CIFAR-10 Batch 1:  Cost: 1.5221799612045288\t Accuracy: 0.5203099846839905\n",
      "Epoch 21, CIFAR-10 Batch 1:  Cost: 1.4634000062942505\t Accuracy: 0.5269500017166138\n",
      "Epoch 22, CIFAR-10 Batch 1:  Cost: 1.497290015220642\t Accuracy: 0.5376999974250793\n",
      "Epoch 23, CIFAR-10 Batch 1:  Cost: 1.672320008277893\t Accuracy: 0.5031200051307678\n",
      "Epoch 24, CIFAR-10 Batch 1:  Cost: 1.5464799404144287\t Accuracy: 0.5259799957275391\n",
      "Epoch 25, CIFAR-10 Batch 1:  Cost: 1.6652300357818604\t Accuracy: 0.5119100213050842\n",
      "Epoch 26, CIFAR-10 Batch 1:  Cost: 1.5861799716949463\t Accuracy: 0.5298799872398376\n",
      "Epoch 27, CIFAR-10 Batch 1:  Cost: 1.492609977722168\t Accuracy: 0.5337899923324585\n",
      "Epoch 28, CIFAR-10 Batch 1:  Cost: 1.473870038986206\t Accuracy: 0.5521500110626221\n",
      "Epoch 29, CIFAR-10 Batch 1:  Cost: 1.5391299724578857\t Accuracy: 0.5595700144767761\n",
      "Epoch 30, CIFAR-10 Batch 1:  Cost: 1.5319900512695312\t Accuracy: 0.5654299855232239\n"
     ]
    }
   ],
   "source": [
    "\"\"\"\n",
    "DON'T MODIFY ANYTHING IN THIS CELL\n",
    "\"\"\"\n",
    "print('Checking the Training on a Single Batch...')\n",
    "with tf.Session() as sess:\n",
    "    # Initializing the variables\n",
    "    sess.run(tf.global_variables_initializer())\n",
    "    \n",
    "    # Training cycle\n",
    "    for epoch in range(epochs):\n",
    "        batch_i = 1\n",
    "        for batch_features, batch_labels in helper.load_preprocess_training_batch(batch_i, batch_size):\n",
    "            train_neural_network(sess, optimizer, keep_probability, batch_features, batch_labels)\n",
    "        print('Epoch {:>2}, CIFAR-10 Batch {}:  '.format(epoch + 1, batch_i), end='')\n",
    "        print_stats(sess, batch_features, batch_labels, cost, accuracy)"
   ]
  },
  {
   "cell_type": "markdown",
   "metadata": {
    "deletable": true,
    "editable": true
   },
   "source": [
    "### Fully Train the Model\n",
    "Now that you got a good accuracy with a single CIFAR-10 batch, try it with all five batches."
   ]
  },
  {
   "cell_type": "code",
   "execution_count": 15,
   "metadata": {
    "collapsed": false,
    "deletable": true,
    "editable": true
   },
   "outputs": [
    {
     "name": "stdout",
     "output_type": "stream",
     "text": [
      "Training...\n",
      "Epoch  1, CIFAR-10 Batch 1:  Cost: 2.302720069885254\t Accuracy: 0.1009799987077713\n",
      "Epoch  1, CIFAR-10 Batch 2:  Cost: 2.0838000774383545\t Accuracy: 0.18886999785900116\n",
      "Epoch  1, CIFAR-10 Batch 3:  Cost: 2.050290107727051\t Accuracy: 0.15526999533176422\n",
      "Epoch  1, CIFAR-10 Batch 4:  Cost: 1.9076800346374512\t Accuracy: 0.19901999831199646\n",
      "Epoch  1, CIFAR-10 Batch 5:  Cost: 1.885390043258667\t Accuracy: 0.19434000551700592\n",
      "Epoch  2, CIFAR-10 Batch 1:  Cost: 1.8940900564193726\t Accuracy: 0.2074200063943863\n",
      "Epoch  2, CIFAR-10 Batch 2:  Cost: 1.855739951133728\t Accuracy: 0.2427700012922287\n",
      "Epoch  2, CIFAR-10 Batch 3:  Cost: 1.8008300065994263\t Accuracy: 0.2636699974536896\n",
      "Epoch  2, CIFAR-10 Batch 4:  Cost: 1.7583199739456177\t Accuracy: 0.3109399974346161\n",
      "Epoch  2, CIFAR-10 Batch 5:  Cost: 1.6820100545883179\t Accuracy: 0.33281001448631287\n",
      "Epoch  3, CIFAR-10 Batch 1:  Cost: 1.668969988822937\t Accuracy: 0.3345699906349182\n",
      "Epoch  3, CIFAR-10 Batch 2:  Cost: 1.590939998626709\t Accuracy: 0.361519992351532\n",
      "Epoch  3, CIFAR-10 Batch 3:  Cost: 1.5738999843597412\t Accuracy: 0.3781200051307678\n",
      "Epoch  3, CIFAR-10 Batch 4:  Cost: 1.4696400165557861\t Accuracy: 0.428710013628006\n",
      "Epoch  3, CIFAR-10 Batch 5:  Cost: 1.4998199939727783\t Accuracy: 0.42851999402046204\n",
      "Epoch  4, CIFAR-10 Batch 1:  Cost: 1.4479600191116333\t Accuracy: 0.4554699957370758\n",
      "Epoch  4, CIFAR-10 Batch 2:  Cost: 1.3476899862289429\t Accuracy: 0.47870999574661255\n",
      "Epoch  4, CIFAR-10 Batch 3:  Cost: 1.4186700582504272\t Accuracy: 0.45879000425338745\n",
      "Epoch  4, CIFAR-10 Batch 4:  Cost: 1.30377995967865\t Accuracy: 0.5164099931716919\n",
      "Epoch  4, CIFAR-10 Batch 5:  Cost: 1.3000199794769287\t Accuracy: 0.5138700008392334\n",
      "Epoch  5, CIFAR-10 Batch 1:  Cost: 1.2447600364685059\t Accuracy: 0.5355499982833862\n",
      "Epoch  5, CIFAR-10 Batch 2:  Cost: 1.2745599746704102\t Accuracy: 0.5189499855041504\n",
      "Epoch  5, CIFAR-10 Batch 3:  Cost: 1.2532700300216675\t Accuracy: 0.5296900272369385\n",
      "Epoch  5, CIFAR-10 Batch 4:  Cost: 1.2095199823379517\t Accuracy: 0.5525400042533875\n",
      "Epoch  5, CIFAR-10 Batch 5:  Cost: 1.2370500564575195\t Accuracy: 0.5415999889373779\n",
      "Epoch  6, CIFAR-10 Batch 1:  Cost: 1.176069974899292\t Accuracy: 0.5724599957466125\n",
      "Epoch  6, CIFAR-10 Batch 2:  Cost: 1.1933799982070923\t Accuracy: 0.5685499906539917\n",
      "Epoch  6, CIFAR-10 Batch 3:  Cost: 1.1252299547195435\t Accuracy: 0.5892599821090698\n",
      "Epoch  6, CIFAR-10 Batch 4:  Cost: 1.1344300508499146\t Accuracy: 0.5847700238227844\n",
      "Epoch  6, CIFAR-10 Batch 5:  Cost: 1.124519944190979\t Accuracy: 0.5916000008583069\n",
      "Epoch  7, CIFAR-10 Batch 1:  Cost: 1.1359200477600098\t Accuracy: 0.5964800119400024\n",
      "Epoch  7, CIFAR-10 Batch 2:  Cost: 1.1406500339508057\t Accuracy: 0.5939499735832214\n",
      "Epoch  7, CIFAR-10 Batch 3:  Cost: 1.1035100221633911\t Accuracy: 0.5976600050926208\n",
      "Epoch  7, CIFAR-10 Batch 4:  Cost: 1.0871200561523438\t Accuracy: 0.6201199889183044\n",
      "Epoch  7, CIFAR-10 Batch 5:  Cost: 1.0401699542999268\t Accuracy: 0.6212900280952454\n",
      "Epoch  8, CIFAR-10 Batch 1:  Cost: 1.0674699544906616\t Accuracy: 0.616599977016449\n",
      "Epoch  8, CIFAR-10 Batch 2:  Cost: 1.0952500104904175\t Accuracy: 0.6179699897766113\n",
      "Epoch  8, CIFAR-10 Batch 3:  Cost: 1.0458099842071533\t Accuracy: 0.6222699880599976\n",
      "Epoch  8, CIFAR-10 Batch 4:  Cost: 1.0456299781799316\t Accuracy: 0.6377000212669373\n",
      "Epoch  8, CIFAR-10 Batch 5:  Cost: 0.9941700100898743\t Accuracy: 0.6492199897766113\n",
      "Epoch  9, CIFAR-10 Batch 1:  Cost: 1.0766700506210327\t Accuracy: 0.6179699897766113\n",
      "Epoch  9, CIFAR-10 Batch 2:  Cost: 1.0316799879074097\t Accuracy: 0.633400022983551\n",
      "Epoch  9, CIFAR-10 Batch 3:  Cost: 0.9746400117874146\t Accuracy: 0.65625\n",
      "Epoch  9, CIFAR-10 Batch 4:  Cost: 1.0187499523162842\t Accuracy: 0.6460899710655212\n",
      "Epoch  9, CIFAR-10 Batch 5:  Cost: 1.0521399974822998\t Accuracy: 0.6402300000190735\n",
      "Epoch 10, CIFAR-10 Batch 1:  Cost: 0.9679499864578247\t Accuracy: 0.6617199778556824\n",
      "Epoch 10, CIFAR-10 Batch 2:  Cost: 0.9660000205039978\t Accuracy: 0.6668000221252441\n",
      "Epoch 10, CIFAR-10 Batch 3:  Cost: 0.985319972038269\t Accuracy: 0.6523399949073792\n",
      "Epoch 10, CIFAR-10 Batch 4:  Cost: 1.0164999961853027\t Accuracy: 0.6517599821090698\n",
      "Epoch 10, CIFAR-10 Batch 5:  Cost: 0.9872199892997742\t Accuracy: 0.6576200127601624\n",
      "Epoch 11, CIFAR-10 Batch 1:  Cost: 0.9455500245094299\t Accuracy: 0.6726599931716919\n",
      "Epoch 11, CIFAR-10 Batch 2:  Cost: 0.9709500074386597\t Accuracy: 0.6691399812698364\n",
      "Epoch 11, CIFAR-10 Batch 3:  Cost: 0.9921299815177917\t Accuracy: 0.6541000008583069\n",
      "Epoch 11, CIFAR-10 Batch 4:  Cost: 0.9470800161361694\t Accuracy: 0.6718800067901611\n",
      "Epoch 11, CIFAR-10 Batch 5:  Cost: 0.9723100066184998\t Accuracy: 0.6671900153160095\n",
      "Epoch 12, CIFAR-10 Batch 1:  Cost: 0.9462000131607056\t Accuracy: 0.6701200008392334\n",
      "Epoch 12, CIFAR-10 Batch 2:  Cost: 0.9574300050735474\t Accuracy: 0.6757799983024597\n",
      "Epoch 12, CIFAR-10 Batch 3:  Cost: 0.9352700114250183\t Accuracy: 0.6730499863624573\n",
      "Epoch 12, CIFAR-10 Batch 4:  Cost: 0.9559400081634521\t Accuracy: 0.663670003414154\n",
      "Epoch 12, CIFAR-10 Batch 5:  Cost: 0.9676100015640259\t Accuracy: 0.6652299761772156\n",
      "Epoch 13, CIFAR-10 Batch 1:  Cost: 0.9318299889564514\t Accuracy: 0.6814500093460083\n",
      "Epoch 13, CIFAR-10 Batch 2:  Cost: 0.9366199970245361\t Accuracy: 0.6863300204277039\n",
      "Epoch 13, CIFAR-10 Batch 3:  Cost: 0.9493200182914734\t Accuracy: 0.6681600213050842\n",
      "Epoch 13, CIFAR-10 Batch 4:  Cost: 0.96110999584198\t Accuracy: 0.6681600213050842\n",
      "Epoch 13, CIFAR-10 Batch 5:  Cost: 0.9208700060844421\t Accuracy: 0.6806600093841553\n",
      "Epoch 14, CIFAR-10 Batch 1:  Cost: 0.9343900084495544\t Accuracy: 0.6837900280952454\n",
      "Epoch 14, CIFAR-10 Batch 2:  Cost: 0.9889500141143799\t Accuracy: 0.6712899804115295\n",
      "Epoch 14, CIFAR-10 Batch 3:  Cost: 0.928820013999939\t Accuracy: 0.6724600195884705\n",
      "Epoch 14, CIFAR-10 Batch 4:  Cost: 0.9538000226020813\t Accuracy: 0.6726599931716919\n",
      "Epoch 14, CIFAR-10 Batch 5:  Cost: 0.9603999853134155\t Accuracy: 0.6763700246810913\n",
      "Epoch 15, CIFAR-10 Batch 1:  Cost: 0.9340599775314331\t Accuracy: 0.6849600076675415\n",
      "Epoch 15, CIFAR-10 Batch 2:  Cost: 0.9496200084686279\t Accuracy: 0.6830099821090698\n",
      "Epoch 15, CIFAR-10 Batch 3:  Cost: 0.9236599802970886\t Accuracy: 0.6779299974441528\n",
      "Epoch 15, CIFAR-10 Batch 4:  Cost: 0.9663000106811523\t Accuracy: 0.6673799753189087\n",
      "Epoch 15, CIFAR-10 Batch 5:  Cost: 0.9388800263404846\t Accuracy: 0.6744099855422974\n",
      "Epoch 16, CIFAR-10 Batch 1:  Cost: 0.915340006351471\t Accuracy: 0.6898400187492371\n",
      "Epoch 16, CIFAR-10 Batch 2:  Cost: 0.9298700094223022\t Accuracy: 0.686519980430603\n",
      "Epoch 16, CIFAR-10 Batch 3:  Cost: 0.9227200150489807\t Accuracy: 0.6845700144767761\n",
      "Epoch 16, CIFAR-10 Batch 4:  Cost: 0.9310700297355652\t Accuracy: 0.6816400289535522\n",
      "Epoch 16, CIFAR-10 Batch 5:  Cost: 0.9320399761199951\t Accuracy: 0.6763700246810913\n",
      "Epoch 17, CIFAR-10 Batch 1:  Cost: 0.9173300266265869\t Accuracy: 0.6888700127601624\n",
      "Epoch 17, CIFAR-10 Batch 2:  Cost: 0.9205600023269653\t Accuracy: 0.6878899931907654\n",
      "Epoch 17, CIFAR-10 Batch 3:  Cost: 0.9259899854660034\t Accuracy: 0.6933599710464478\n",
      "Epoch 17, CIFAR-10 Batch 4:  Cost: 0.9496700167655945\t Accuracy: 0.6835899949073792\n",
      "Epoch 17, CIFAR-10 Batch 5:  Cost: 0.9055399894714355\t Accuracy: 0.6966800093650818\n",
      "Epoch 18, CIFAR-10 Batch 1:  Cost: 0.8935499787330627\t Accuracy: 0.6972699761390686\n",
      "Epoch 18, CIFAR-10 Batch 2:  Cost: 0.9017599821090698\t Accuracy: 0.6955100297927856\n",
      "Epoch 18, CIFAR-10 Batch 3:  Cost: 0.9169399738311768\t Accuracy: 0.6992200016975403\n",
      "Epoch 18, CIFAR-10 Batch 4:  Cost: 0.9347100257873535\t Accuracy: 0.6849600076675415\n",
      "Epoch 18, CIFAR-10 Batch 5:  Cost: 0.967199981212616\t Accuracy: 0.6835899949073792\n",
      "Epoch 19, CIFAR-10 Batch 1:  Cost: 0.8859699964523315\t Accuracy: 0.7027300000190735\n",
      "Epoch 19, CIFAR-10 Batch 2:  Cost: 0.9129700064659119\t Accuracy: 0.6947299838066101\n",
      "Epoch 19, CIFAR-10 Batch 3:  Cost: 0.9087200164794922\t Accuracy: 0.7078099846839905\n",
      "Epoch 19, CIFAR-10 Batch 4:  Cost: 0.9035000205039978\t Accuracy: 0.6986299753189087\n",
      "Epoch 19, CIFAR-10 Batch 5:  Cost: 0.9329500198364258\t Accuracy: 0.6921899914741516\n",
      "Epoch 20, CIFAR-10 Batch 1:  Cost: 0.8991199731826782\t Accuracy: 0.695900022983551\n",
      "Epoch 20, CIFAR-10 Batch 2:  Cost: 0.940530002117157\t Accuracy: 0.6937500238418579\n",
      "Epoch 20, CIFAR-10 Batch 3:  Cost: 1.0018399953842163\t Accuracy: 0.6747999787330627\n",
      "Epoch 20, CIFAR-10 Batch 4:  Cost: 0.9200999736785889\t Accuracy: 0.6986299753189087\n",
      "Epoch 20, CIFAR-10 Batch 5:  Cost: 0.9286699891090393\t Accuracy: 0.699999988079071\n",
      "Epoch 21, CIFAR-10 Batch 1:  Cost: 0.8917800188064575\t Accuracy: 0.7023400068283081\n",
      "Epoch 21, CIFAR-10 Batch 2:  Cost: 0.909030020236969\t Accuracy: 0.6990200281143188\n",
      "Epoch 21, CIFAR-10 Batch 3:  Cost: 0.9693999886512756\t Accuracy: 0.6970700025558472\n",
      "Epoch 21, CIFAR-10 Batch 4:  Cost: 0.9391400218009949\t Accuracy: 0.6956999897956848\n",
      "Epoch 21, CIFAR-10 Batch 5:  Cost: 0.934909999370575\t Accuracy: 0.7005900144577026\n",
      "Epoch 22, CIFAR-10 Batch 1:  Cost: 0.9288700222969055\t Accuracy: 0.6951199769973755\n",
      "Epoch 22, CIFAR-10 Batch 2:  Cost: 0.925819993019104\t Accuracy: 0.6970700025558472\n",
      "Epoch 22, CIFAR-10 Batch 3:  Cost: 1.0038299560546875\t Accuracy: 0.6832000017166138\n",
      "Epoch 22, CIFAR-10 Batch 4:  Cost: 0.9092199802398682\t Accuracy: 0.6984400153160095\n",
      "Epoch 22, CIFAR-10 Batch 5:  Cost: 0.9839400053024292\t Accuracy: 0.6845700144767761\n",
      "Epoch 23, CIFAR-10 Batch 1:  Cost: 0.8919600248336792\t Accuracy: 0.7084000110626221\n",
      "Epoch 23, CIFAR-10 Batch 2:  Cost: 0.9525899887084961\t Accuracy: 0.6923800110816956\n",
      "Epoch 23, CIFAR-10 Batch 3:  Cost: 0.9335899949073792\t Accuracy: 0.7042999863624573\n",
      "Epoch 23, CIFAR-10 Batch 4:  Cost: 0.9661999940872192\t Accuracy: 0.6933599710464478\n",
      "Epoch 23, CIFAR-10 Batch 5:  Cost: 0.8975200057029724\t Accuracy: 0.7048799991607666\n",
      "Epoch 24, CIFAR-10 Batch 1:  Cost: 0.9315299987792969\t Accuracy: 0.6876999735832214\n",
      "Epoch 24, CIFAR-10 Batch 2:  Cost: 0.8960099816322327\t Accuracy: 0.7084000110626221\n",
      "Epoch 24, CIFAR-10 Batch 3:  Cost: 0.9164100289344788\t Accuracy: 0.7089800238609314\n",
      "Epoch 24, CIFAR-10 Batch 4:  Cost: 0.9112799763679504\t Accuracy: 0.701170027256012\n",
      "Epoch 24, CIFAR-10 Batch 5:  Cost: 0.9203600287437439\t Accuracy: 0.6947299838066101\n",
      "Epoch 25, CIFAR-10 Batch 1:  Cost: 0.9165499806404114\t Accuracy: 0.7037100195884705\n",
      "Epoch 25, CIFAR-10 Batch 2:  Cost: 0.9346299767494202\t Accuracy: 0.6908199787139893\n",
      "Epoch 25, CIFAR-10 Batch 3:  Cost: 0.9067000150680542\t Accuracy: 0.7081999778747559\n",
      "Epoch 25, CIFAR-10 Batch 4:  Cost: 0.8961799740791321\t Accuracy: 0.7027300000190735\n",
      "Epoch 25, CIFAR-10 Batch 5:  Cost: 0.9238600134849548\t Accuracy: 0.7041000127792358\n",
      "Epoch 26, CIFAR-10 Batch 1:  Cost: 0.9085999727249146\t Accuracy: 0.7015600204467773\n",
      "Epoch 26, CIFAR-10 Batch 2:  Cost: 0.948199987411499\t Accuracy: 0.6849600076675415\n",
      "Epoch 26, CIFAR-10 Batch 3:  Cost: 0.8879299759864807\t Accuracy: 0.7210900187492371\n",
      "Epoch 26, CIFAR-10 Batch 4:  Cost: 0.9189199805259705\t Accuracy: 0.6996099948883057\n",
      "Epoch 26, CIFAR-10 Batch 5:  Cost: 0.8912500143051147\t Accuracy: 0.7084000110626221\n",
      "Epoch 27, CIFAR-10 Batch 1:  Cost: 0.9373599886894226\t Accuracy: 0.6998000144958496\n",
      "Epoch 27, CIFAR-10 Batch 2:  Cost: 0.9412999749183655\t Accuracy: 0.700980007648468\n",
      "Epoch 27, CIFAR-10 Batch 3:  Cost: 0.9172999858856201\t Accuracy: 0.7039099931716919\n",
      "Epoch 27, CIFAR-10 Batch 4:  Cost: 0.9123499989509583\t Accuracy: 0.7021499872207642\n",
      "Epoch 27, CIFAR-10 Batch 5:  Cost: 0.9373199939727783\t Accuracy: 0.7078099846839905\n",
      "Epoch 28, CIFAR-10 Batch 1:  Cost: 0.9041799902915955\t Accuracy: 0.7107399702072144\n",
      "Epoch 28, CIFAR-10 Batch 2:  Cost: 1.0281000137329102\t Accuracy: 0.6767600178718567\n",
      "Epoch 28, CIFAR-10 Batch 3:  Cost: 0.9338200092315674\t Accuracy: 0.7101600170135498\n",
      "Epoch 28, CIFAR-10 Batch 4:  Cost: 0.954039990901947\t Accuracy: 0.6857399940490723\n",
      "Epoch 28, CIFAR-10 Batch 5:  Cost: 0.9146400094032288\t Accuracy: 0.7154300212860107\n",
      "Epoch 29, CIFAR-10 Batch 1:  Cost: 0.8946300148963928\t Accuracy: 0.717769980430603\n",
      "Epoch 29, CIFAR-10 Batch 2:  Cost: 0.9443899989128113\t Accuracy: 0.6916000247001648\n",
      "Epoch 29, CIFAR-10 Batch 3:  Cost: 0.9332299828529358\t Accuracy: 0.7066400051116943\n",
      "Epoch 29, CIFAR-10 Batch 4:  Cost: 0.8966400027275085\t Accuracy: 0.7068399786949158\n",
      "Epoch 29, CIFAR-10 Batch 5:  Cost: 0.9385899901390076\t Accuracy: 0.7070299983024597\n",
      "Epoch 30, CIFAR-10 Batch 1:  Cost: 0.8989599943161011\t Accuracy: 0.7076200246810913\n",
      "Epoch 30, CIFAR-10 Batch 2:  Cost: 1.0263700485229492\t Accuracy: 0.6851599812507629\n",
      "Epoch 30, CIFAR-10 Batch 3:  Cost: 0.9241499900817871\t Accuracy: 0.7023400068283081\n",
      "Epoch 30, CIFAR-10 Batch 4:  Cost: 0.9509599804878235\t Accuracy: 0.6945300102233887\n",
      "Epoch 30, CIFAR-10 Batch 5:  Cost: 0.9642599821090698\t Accuracy: 0.7023400068283081\n"
     ]
    }
   ],
   "source": [
    "\"\"\"\n",
    "DON'T MODIFY ANYTHING IN THIS CELL\n",
    "\"\"\"\n",
    "save_model_path = './image_classification'\n",
    "\n",
    "print('Training...')\n",
    "with tf.Session() as sess:\n",
    "    # Initializing the variables\n",
    "    sess.run(tf.global_variables_initializer())\n",
    "    \n",
    "    # Training cycle\n",
    "    for epoch in range(epochs):\n",
    "        # Loop over all batches\n",
    "        n_batches = 5\n",
    "        for batch_i in range(1, n_batches + 1):\n",
    "            for batch_features, batch_labels in helper.load_preprocess_training_batch(batch_i, batch_size):\n",
    "                train_neural_network(sess, optimizer, keep_probability, batch_features, batch_labels)\n",
    "            print('Epoch {:>2}, CIFAR-10 Batch {}:  '.format(epoch + 1, batch_i), end='')\n",
    "            print_stats(sess, batch_features, batch_labels, cost, accuracy)\n",
    "            \n",
    "    # Save Model\n",
    "    saver = tf.train.Saver()\n",
    "    save_path = saver.save(sess, save_model_path)"
   ]
  },
  {
   "cell_type": "markdown",
   "metadata": {
    "deletable": true,
    "editable": true
   },
   "source": [
    "# Checkpoint\n",
    "The model has been saved to disk.\n",
    "## Test Model\n",
    "Test your model against the test dataset.  This will be your final accuracy. You should have an accuracy greater than 50%. If you don't, keep tweaking the model architecture and parameters."
   ]
  },
  {
   "cell_type": "code",
   "execution_count": 16,
   "metadata": {
    "collapsed": false,
    "deletable": true,
    "editable": true
   },
   "outputs": [
    {
     "name": "stdout",
     "output_type": "stream",
     "text": [
      "INFO:tensorflow:Restoring parameters from ./image_classification\n",
      "Testing Accuracy: 0.69765625\n",
      "\n"
     ]
    },
    {
     "data": {
      "image/png": "[encoded data removed]",
      "text/plain": [
       "<matplotlib.figure.Figure at 0x2f4815661d0>"
      ]
     },
     "metadata": {
      "image/png": {
       "height": 319,
       "width": 355
      }
     },
     "output_type": "display_data"
    }
   ],
   "source": [
    "\"\"\"\n",
    "DON'T MODIFY ANYTHING IN THIS CELL\n",
    "\"\"\"\n",
    "%matplotlib inline\n",
    "%config InlineBackend.figure_format = 'retina'\n",
    "\n",
    "import tensorflow as tf\n",
    "import pickle\n",
    "import helper\n",
    "import random\n",
    "\n",
    "# Set batch size if not already set\n",
    "try:\n",
    "    if batch_size:\n",
    "        pass\n",
    "except NameError:\n",
    "    batch_size = 64\n",
    "\n",
    "save_model_path = './image_classification'\n",
    "n_samples = 4\n",
    "top_n_predictions = 3\n",
    "\n",
    "def test_model():\n",
    "    \"\"\"\n",
    "    Test the saved model against the test dataset\n",
    "    \"\"\"\n",
    "\n",
    "    test_features, test_labels = pickle.load(open('preprocess_training.p', mode='rb'))\n",
    "    loaded_graph = tf.Graph()\n",
    "\n",
    "    with tf.Session(graph=loaded_graph) as sess:\n",
    "        # Load model\n",
    "        loader = tf.train.import_meta_graph(save_model_path + '.meta')\n",
    "        loader.restore(sess, save_model_path)\n",
    "\n",
    "        # Get Tensors from loaded model\n",
    "        loaded_x = loaded_graph.get_tensor_by_name('x:0')\n",
    "        loaded_y = loaded_graph.get_tensor_by_name('y:0')\n",
    "        loaded_keep_prob = loaded_graph.get_tensor_by_name('keep_prob:0')\n",
    "        loaded_logits = loaded_graph.get_tensor_by_name('logits:0')\n",
    "        loaded_acc = loaded_graph.get_tensor_by_name('accuracy:0')\n",
    "        \n",
    "        # Get accuracy in batches for memory limitations\n",
    "        test_batch_acc_total = 0\n",
    "        test_batch_count = 0\n",
    "        \n",
    "        for train_feature_batch, train_label_batch in helper.batch_features_labels(test_features, test_labels, batch_size):\n",
    "            test_batch_acc_total += sess.run(\n",
    "                loaded_acc,\n",
    "                feed_dict={loaded_x: train_feature_batch, loaded_y: train_label_batch, loaded_keep_prob: 1.0})\n",
    "            test_batch_count += 1\n",
    "\n",
    "        print('Testing Accuracy: {}\\n'.format(test_batch_acc_total/test_batch_count))\n",
    "\n",
    "        # Print Random Samples\n",
    "        random_test_features, random_test_labels = tuple(zip(*random.sample(list(zip(test_features, test_labels)), n_samples)))\n",
    "        random_test_predictions = sess.run(\n",
    "            tf.nn.top_k(tf.nn.softmax(loaded_logits), top_n_predictions),\n",
    "            feed_dict={loaded_x: random_test_features, loaded_y: random_test_labels, loaded_keep_prob: 1.0})\n",
    "        helper.display_image_predictions(random_test_features, random_test_labels, random_test_predictions)\n",
    "\n",
    "\n",
    "test_model()"
   ]
  },
  {
   "cell_type": "markdown",
   "metadata": {
    "deletable": true,
    "editable": true
   },
   "source": [
    "## Why 50-80% Accuracy?\n",
    "You might be wondering why you can't get an accuracy any higher. First things first, 50% isn't bad for a simple CNN.  Pure guessing would get you 10% accuracy. That's because there are many more techniques that can be applied to your model and we recemmond that once you are done with this project, you explore!\n",
    "\n",
    "## Submitting This Project\n",
    "When submitting this project, make sure to run all the cells before saving the notebook.  Save the notebook file as \"image_classification.ipynb\" and save it as a HTML file under \"File\" -> \"Download as\".  Include the \"helper.py\" and \"problem_unittests.py\" files in your submission."
   ]
  }
 ],
 "metadata": {
  "kernelspec": {
   "display_name": "Python 3",
   "language": "python",
   "name": "python3"
  },
  "language_info": {
   "codemirror_mode": {
    "name": "ipython",
    "version": 3
   },
   "file_extension": ".py",
   "mimetype": "text/x-python",
   "name": "python",
   "nbconvert_exporter": "python",
   "pygments_lexer": "ipython3",
   "version": "3.5.1"
  }
 },
 "nbformat": 4,
 "nbformat_minor": 0
}
